{
  "nbformat": 4,
  "nbformat_minor": 0,
  "metadata": {
    "colab": {
      "provenance": [],
      "authorship_tag": "ABX9TyM5jWcoqhybpYOt4FOStV0q",
      "include_colab_link": true
    },
    "kernelspec": {
      "name": "python3",
      "display_name": "Python 3"
    },
    "language_info": {
      "name": "python"
    }
  },
  "cells": [
    {
      "cell_type": "markdown",
      "metadata": {
        "id": "view-in-github",
        "colab_type": "text"
      },
      "source": [
        "<a href=\"https://colab.research.google.com/github/vcshaffe/MAT-421/blob/main/ModuleC.ipynb\" target=\"_parent\"><img src=\"https://colab.research.google.com/assets/colab-badge.svg\" alt=\"Open In Colab\"/></a>"
      ]
    },
    {
      "cell_type": "markdown",
      "source": [
        "19.1 Root Finding Problem Statement\n",
        "\n",
        "The root or zero of a function f(x) is an xr such that f(xr)=0. "
      ],
      "metadata": {
        "id": "dRZE6JMHYjB0"
      }
    },
    {
      "cell_type": "code",
      "execution_count": 1,
      "metadata": {
        "colab": {
          "base_uri": "https://localhost:8080/"
        },
        "id": "Ke_C2Z3bYPff",
        "outputId": "34996193-e380-4677-e42c-7ae5ec9c58b3"
      },
      "outputs": [
        {
          "output_type": "stream",
          "name": "stdout",
          "text": [
            "r = [0.73908513]\n",
            "result= [0.]\n"
          ]
        }
      ],
      "source": [
        "import numpy as np\n",
        "from scipy import optimize\n",
        "\n",
        "f = lambda x: np.cos(x) -x\n",
        "r = optimize.fsolve(f,-2)\n",
        "print(\"r =\", r)\n",
        "\n",
        "#Verify the solution is a root\n",
        "result = f(r)\n",
        "print(\"result=\", result)"
      ]
    },
    {
      "cell_type": "markdown",
      "source": [
        "This example tries to compute the root of f(x) = 1/x. Here we turn on full output to see what is going on."
      ],
      "metadata": {
        "id": "F3YcovNLZMok"
      }
    },
    {
      "cell_type": "code",
      "source": [
        "f = lambda x: 1/x\n",
        "\n",
        "r, infodict, ier, mesg = optimize.fsolve(f, -2, full_output=True)\n",
        "print(\"r =\", r)\n",
        "\n",
        "result = f(r)\n",
        "print(\"result=\", result)\n",
        "\n",
        "print(mesg)"
      ],
      "metadata": {
        "colab": {
          "base_uri": "https://localhost:8080/"
        },
        "id": "vyKwScNVZAX5",
        "outputId": "07927be1-d27d-4af9-b455-28537a2e16a0"
      },
      "execution_count": 2,
      "outputs": [
        {
          "output_type": "stream",
          "name": "stdout",
          "text": [
            "r = [-3.52047359e+83]\n",
            "result= [-2.84052692e-84]\n",
            "The number of calls to function has reached maxfev = 400.\n"
          ]
        }
      ]
    },
    {
      "cell_type": "markdown",
      "source": [
        "19.2 Tolerance\n",
        "\n",
        "**Error** -- the deviation from an expected or computed value. \n",
        "\n",
        "**Tolerance** -- the level of error that is acceptable for an engineering application.\n",
        "\n",
        "A computer program has **converged** to a solution when it has found a solution with an error smaller than the tolerance.\n",
        "\n",
        "When computing roots, we want to find xr such that f(xr) is very close to 0. Therefore, we can also use |f(x)|.\n",
        "\n",
        "We can also assume that xi is the ith guess of an algorithm for finding a root, then |xi+1 - xi| is another possible choice for measuring error."
      ],
      "metadata": {
        "id": "omh675axZcsu"
      }
    },
    {
      "cell_type": "markdown",
      "source": [
        "19.3 Bisection Method\n",
        "\n",
        "The **Intermediate Value Theorem (IVT)** says that if f(x) is a continuous function between a and b, and sign(f(a)) != sign(f(b)), then there must be c such that a < c < b and f(c) = 0.\n",
        "\n",
        "**Bisection method** -- Usese the IVT to iteratively find roots.\n",
        "\n",
        "\n",
        "*   Let f(x) be a continuous function, and a and b be real scalar values such that a < b.\n",
        "*   Assume also that f(a) > 0 and f(b) < 0. Then by the IVT, there must be a root in the open interval (a,b).\n",
        "*   Let m = (b+a)/2 be the midpoint between a and b. \n",
        "   *   If f(m)= 0 or is close enough, then m is a root.\n",
        "   *   If f(m) > 0 then m is an improvement on the left bound a, and there is guaranteed to be a root in (m,b).\n",
        "   *   If f(m) < 0, then m is an improvement on the right bound b and there is guaranteed to be a root in (a,m).\n",
        "*   This process of updating a and b can be repeated until the error is acceptably low.\n",
        "\n",
        "Ex - Approximate the root *r* of f bounded by a and b to within |f(a+b)/2| < tol.\n",
        "\n"
      ],
      "metadata": {
        "id": "CoOznu_EaWib"
      }
    },
    {
      "cell_type": "code",
      "source": [
        "import numpy as np\n",
        "\n",
        "def my_bisection(f, a, b, tol):\n",
        "  if np.sign(f(a)) == np.sign(f(b)):\n",
        "    raise Exception(\n",
        "        \"The scalars a and b do not bound a root\")\n",
        "    \n",
        "  m = (a + b)/2\n",
        "\n",
        "  if np.abs(f(m)) < tol:\n",
        "    return m\n",
        "  elif np.sign(f(a)) == np.sign(f(m)):\n",
        "    return my_bisection(f, m, b, tol)\n",
        "  elif np.sign(f(b)) == np.sign(f(m)):\n",
        "    return my_bisection(f, a, m, tol)"
      ],
      "metadata": {
        "id": "bQpt-91OcMKA"
      },
      "execution_count": 12,
      "outputs": []
    },
    {
      "cell_type": "markdown",
      "source": [
        "Root 2 can be computed as the root of the function f(x) = x^2 - 2. Starting at a=0 and b=2, we can use my_bisection to approximate root 2 to a tolerance of 0.1 and 0.01."
      ],
      "metadata": {
        "id": "Z7FIk4lzmX8-"
      }
    },
    {
      "cell_type": "code",
      "source": [
        "f = lambda x: x**2 - 2 \n",
        "\n",
        "r1 = my_bisection(f, 0, 2, 0.1)\n",
        "print(\"r1 =\", r1)\n",
        "r01 = my_bisection(f, 0, 2, 0.01)\n",
        "print(\"r01 =\", r01)\n",
        "\n",
        "print(\"f(r1) =\", f(r1))\n",
        "print(\"f(r01) =\", f(r01))"
      ],
      "metadata": {
        "colab": {
          "base_uri": "https://localhost:8080/"
        },
        "id": "kLttX9ugdHRh",
        "outputId": "1366950a-79c0-41f3-e22c-8bb2c69d6442"
      },
      "execution_count": 13,
      "outputs": [
        {
          "output_type": "stream",
          "name": "stdout",
          "text": [
            "r1 = 1.4375\n",
            "r01 = 1.4140625\n",
            "f(r1) = 0.06640625\n",
            "f(r01) = -0.00042724609375\n"
          ]
        }
      ]
    },
    {
      "cell_type": "code",
      "source": [
        "my_bisection(f, 2, 4, 0.01)"
      ],
      "metadata": {
        "colab": {
          "base_uri": "https://localhost:8080/",
          "height": 294
        },
        "id": "hTgpkpphnUnX",
        "outputId": "7dc46a90-12a3-42af-c517-54aa13f68405"
      },
      "execution_count": 15,
      "outputs": [
        {
          "output_type": "error",
          "ename": "Exception",
          "evalue": "ignored",
          "traceback": [
            "\u001b[0;31m---------------------------------------------------------------------------\u001b[0m",
            "\u001b[0;31mException\u001b[0m                                 Traceback (most recent call last)",
            "\u001b[0;32m<ipython-input-15-4158b7a9ae67>\u001b[0m in \u001b[0;36m<module>\u001b[0;34m\u001b[0m\n\u001b[0;32m----> 1\u001b[0;31m \u001b[0mmy_bisection\u001b[0m\u001b[0;34m(\u001b[0m\u001b[0mf\u001b[0m\u001b[0;34m,\u001b[0m \u001b[0;36m2\u001b[0m\u001b[0;34m,\u001b[0m \u001b[0;36m4\u001b[0m\u001b[0;34m,\u001b[0m \u001b[0;36m0.01\u001b[0m\u001b[0;34m)\u001b[0m\u001b[0;34m\u001b[0m\u001b[0;34m\u001b[0m\u001b[0m\n\u001b[0m",
            "\u001b[0;32m<ipython-input-12-44b81056e97e>\u001b[0m in \u001b[0;36mmy_bisection\u001b[0;34m(f, a, b, tol)\u001b[0m\n\u001b[1;32m      3\u001b[0m \u001b[0;32mdef\u001b[0m \u001b[0mmy_bisection\u001b[0m\u001b[0;34m(\u001b[0m\u001b[0mf\u001b[0m\u001b[0;34m,\u001b[0m \u001b[0ma\u001b[0m\u001b[0;34m,\u001b[0m \u001b[0mb\u001b[0m\u001b[0;34m,\u001b[0m \u001b[0mtol\u001b[0m\u001b[0;34m)\u001b[0m\u001b[0;34m:\u001b[0m\u001b[0;34m\u001b[0m\u001b[0;34m\u001b[0m\u001b[0m\n\u001b[1;32m      4\u001b[0m   \u001b[0;32mif\u001b[0m \u001b[0mnp\u001b[0m\u001b[0;34m.\u001b[0m\u001b[0msign\u001b[0m\u001b[0;34m(\u001b[0m\u001b[0mf\u001b[0m\u001b[0;34m(\u001b[0m\u001b[0ma\u001b[0m\u001b[0;34m)\u001b[0m\u001b[0;34m)\u001b[0m \u001b[0;34m==\u001b[0m \u001b[0mnp\u001b[0m\u001b[0;34m.\u001b[0m\u001b[0msign\u001b[0m\u001b[0;34m(\u001b[0m\u001b[0mf\u001b[0m\u001b[0;34m(\u001b[0m\u001b[0mb\u001b[0m\u001b[0;34m)\u001b[0m\u001b[0;34m)\u001b[0m\u001b[0;34m:\u001b[0m\u001b[0;34m\u001b[0m\u001b[0;34m\u001b[0m\u001b[0m\n\u001b[0;32m----> 5\u001b[0;31m     raise Exception(\n\u001b[0m\u001b[1;32m      6\u001b[0m         \"The scalars a and b do not bound a root\")\n\u001b[1;32m      7\u001b[0m \u001b[0;34m\u001b[0m\u001b[0m\n",
            "\u001b[0;31mException\u001b[0m: The scalars a and b do not bound a root"
          ]
        }
      ]
    },
    {
      "cell_type": "markdown",
      "source": [
        "19.4 Newton-Raphson Method\n",
        "\n",
        "The Newton-Raphson method of finding roots iterates steps x0 until the error is less than the tolerance by computing improved guesses from previous guesses.\n",
        "\n",
        "Ex - Again with sqrt(2) as the root of f(x) = x^2 - 2, using x0 = 1.4 as the starting point."
      ],
      "metadata": {
        "id": "oSLvyUjzn2kH"
      }
    },
    {
      "cell_type": "code",
      "source": [
        "import numpy as np\n",
        "\n",
        "f = lambda x: x**2 - 2\n",
        "f_prime = lambda x: 2*x\n",
        "newton_raphson = 1.4 - (f(1.4))/(f_prime(1.4))\n",
        "\n",
        "print(\"newton_raphson =\", newton_raphson)\n",
        "print(\"sqrt(2) =\", np.sqrt(2))"
      ],
      "metadata": {
        "colab": {
          "base_uri": "https://localhost:8080/"
        },
        "id": "c3qOgIQeokRc",
        "outputId": "befbb66e-b935-4310-fe1e-ab53772e4299"
      },
      "execution_count": 16,
      "outputs": [
        {
          "output_type": "stream",
          "name": "stdout",
          "text": [
            "newton_raphson = 1.4142857142857144\n",
            "sqrt(2) = 1.4142135623730951\n"
          ]
        }
      ]
    },
    {
      "cell_type": "code",
      "source": [
        "def my_newton(f, df, x0, tol):\n",
        "  # output is an estimation of the root of f using the Newton Raphson method\n",
        "  # recursive implementation\n",
        "  if abs(f(x0)) < tol:\n",
        "    return x0\n",
        "  else: \n",
        "      return my_newton(f, df, x0 - f(x0)/df(x0), tol)"
      ],
      "metadata": {
        "id": "pn4uhwzwo-gB"
      },
      "execution_count": 18,
      "outputs": []
    },
    {
      "cell_type": "code",
      "source": [
        "estimate = my_newton(f, f_prime, 1.5, 1e-6)\n",
        "print(\"estimate =\", estimate)\n",
        "print(\"sqrt(2) =\", np.sqrt(2))"
      ],
      "metadata": {
        "colab": {
          "base_uri": "https://localhost:8080/"
        },
        "id": "cTIII_pcpSJy",
        "outputId": "ceae9027-7062-4ff4-a3e4-3aae7ab28aa9"
      },
      "execution_count": 19,
      "outputs": [
        {
          "output_type": "stream",
          "name": "stdout",
          "text": [
            "estimate = 1.4142135623746899\n",
            "sqrt(2) = 1.4142135623730951\n"
          ]
        }
      ]
    },
    {
      "cell_type": "code",
      "source": [
        "#Computing a single Newton step to get an improved approximation of the root of \n",
        "#f(x)=x^3 + 3x^2 - 2x -5 with initial guess x0= 0.29\n",
        "x0 = 0.29\n",
        "x1 = x0-(x0**3+3*x0**2-2*x0-5)/(3*x0**2+6*x0-2)\n",
        "print(\"x1 =\", x1)"
      ],
      "metadata": {
        "colab": {
          "base_uri": "https://localhost:8080/"
        },
        "id": "7kq54gEJpqdJ",
        "outputId": "313f8792-f7bd-4b45-a476-9e90fe4e95bd"
      },
      "execution_count": 21,
      "outputs": [
        {
          "output_type": "stream",
          "name": "stdout",
          "text": [
            "x1 = -688.4516883116648\n"
          ]
        }
      ]
    },
    {
      "cell_type": "markdown",
      "source": [
        "19.5 Root Finding in Python\n",
        "\n",
        "We can use the f_solve function to find the root of functions."
      ],
      "metadata": {
        "id": "9UUqPb9AqQbb"
      }
    },
    {
      "cell_type": "code",
      "source": [
        "#f(x)= x^3 - 100x^2 - x + 100\n",
        "from scipy.optimize import fsolve"
      ],
      "metadata": {
        "id": "fj3vRH9fqX9h"
      },
      "execution_count": 22,
      "outputs": []
    },
    {
      "cell_type": "code",
      "source": [
        "f = lambda x: x**3-100*x**2-x+100\n",
        "\n",
        "fsolve(f, [2,80])"
      ],
      "metadata": {
        "colab": {
          "base_uri": "https://localhost:8080/"
        },
        "id": "BYwFQzsVqd70",
        "outputId": "45540d48-e0d8-402a-a6e4-963a48dde6f6"
      },
      "execution_count": 23,
      "outputs": [
        {
          "output_type": "execute_result",
          "data": {
            "text/plain": [
              "array([  1., 100.])"
            ]
          },
          "metadata": {},
          "execution_count": 23
        }
      ]
    },
    {
      "cell_type": "markdown",
      "source": [
        "We know that this function has 2 roots, x=1 and x=100, so we can get the roots fairly simply with f_solve."
      ],
      "metadata": {
        "id": "kVTZnlnWqlwv"
      }
    }
  ]
}