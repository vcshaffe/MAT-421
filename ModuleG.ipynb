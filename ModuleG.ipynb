{
  "nbformat": 4,
  "nbformat_minor": 0,
  "metadata": {
    "colab": {
      "provenance": [],
      "authorship_tag": "ABX9TyOjLxU/+D3mYBa3t/Z9GLGO",
      "include_colab_link": true
    },
    "kernelspec": {
      "name": "python3",
      "display_name": "Python 3"
    },
    "language_info": {
      "name": "python"
    }
  },
  "cells": [
    {
      "cell_type": "markdown",
      "metadata": {
        "id": "view-in-github",
        "colab_type": "text"
      },
      "source": [
        "<a href=\"https://colab.research.google.com/github/vcshaffe/MAT-421/blob/main/ModuleG.ipynb\" target=\"_parent\"><img src=\"https://colab.research.google.com/assets/colab-badge.svg\" alt=\"Open In Colab\"/></a>"
      ]
    },
    {
      "cell_type": "markdown",
      "source": [
        "# 21.1 Numerical Integration Problem Statement\n",
        "\n",
        "Given a function f(x) that we want to approximate the integral over [a,b], we assume that the interval is discretized into a numerical grid, x, containing n+1 points with spacing h=(b-a)/n. with each point on the grid being x_i, x_0 = a, and x_n = b. The interval [x_i, x_i+1] is called a subinterval.\n",
        "\n"
      ],
      "metadata": {
        "id": "TnMygzB23yfU"
      }
    },
    {
      "cell_type": "markdown",
      "source": [
        "# 21.2 Riemanns Integral\n",
        "\n",
        "The simplest method for computing integrals which consists of summing up rectangles with width x_i+1 - x_i = h, and the height of each rectangle is defined by the function value f(x) for some x in the subinterval. Usually, the height is chosen as the left or right side of the rectangle, xi or x_i+1 respectively.\n",
        "\n",
        "We can also take a Riemann integral approximation with Taylor Series Substitution\n",
        "\n",
        "∫x_i x_i+1 f(x)dx = hf(x_i) + O(h^2)\n",
        "\n",
        "So, the Riemann integral approximation over a single interval is O(h^2), and if we sum the O(h^2) error over the entire Riemann sum, we get nO(h^2), so the relationship between n and h is \n",
        "h = (b-a)/n. So the total error becomes (b-a)/h * O(h^2) = O(h), so the overall accuracy is O(h).\n",
        "\n",
        "The Midpoint Rule takes the rectangle height of the rectangle at each subinterval to be the function value at the midpoint between x_i and x_i+1, which we denote as y_i."
      ],
      "metadata": {
        "id": "donTmMMl4VYX"
      }
    },
    {
      "cell_type": "code",
      "source": [
        "import numpy as np\n",
        "\n",
        "a = 0\n",
        "b = np.pi\n",
        "n = 11\n",
        "h = (b - a) / (n - 1)\n",
        "x = np.linspace(a, b, n)\n",
        "f  = np.sin(x)\n",
        "\n",
        "I_riemannL = h * sum(f[:n-1])\n",
        "err_riemannL = 2 - I_riemannL\n",
        "\n",
        "I_riemannR = h * sum(f[1::])\n",
        "err_riemannR = 2 - I_riemannR\n",
        "\n",
        "I_mid = h * sum(np.sin((x[:n-1] \\\n",
        "        + x[1:])/2))\n",
        "err_mid = 2 - I_mid\n",
        "\n",
        "print(I_riemannL)\n",
        "print(err_riemannL)\n",
        "\n",
        "print(I_riemannR)\n",
        "print(err_riemannR)\n",
        "\n",
        "print(I_mid)\n",
        "print(err_mid)"
      ],
      "metadata": {
        "colab": {
          "base_uri": "https://localhost:8080/"
        },
        "id": "w-er_Z7y5AXx",
        "outputId": "67948cdb-5aab-41b6-87bc-f2dece7e83cc"
      },
      "execution_count": 3,
      "outputs": [
        {
          "output_type": "stream",
          "name": "stdout",
          "text": [
            "1.9835235375094546\n",
            "0.01647646249054535\n",
            "1.9835235375094546\n",
            "0.01647646249054535\n",
            "2.0082484079079745\n",
            "-0.008248407907974542\n"
          ]
        }
      ]
    },
    {
      "cell_type": "markdown",
      "source": [
        "# 20.3 Trapezoid Rule\n",
        "\n",
        "Fits a trapezoid in to each subinterval and sums the areas of the trapezoid to approximate the total integral. For each subinterval, the Trapezoid Rule computes the area of the trapezoid with corners at (x_i, 0), (x_i+1, 0), (x_i, f(x_i)), (x_i+1, f(x_i+1)).\n",
        "\n",
        "Since h/2(f(x_i+1) + f(x_i)) is the Trapezoid Rule approx for the integral over a subinterval, it is O(h^3) for a single subinterval and O(h^2) over the whole interval."
      ],
      "metadata": {
        "id": "w8frg3wA6XQP"
      }
    },
    {
      "cell_type": "code",
      "source": [
        "import numpy as np\n",
        "\n",
        "a = 0\n",
        "b = np.pi\n",
        "n = 11\n",
        "h = (b - a) / (n - 1)\n",
        "x = np.linspace(a, b, n)\n",
        "f = np.sin(x)\n",
        "\n",
        "I_trap = (h/2)*(f[0] + \\\n",
        "                2 * sum(f[1:n-1]) + f[n-1])\n",
        "err_trap = 2 - I_trap\n",
        "\n",
        "print(I_trap)\n",
        "print(err_trap)"
      ],
      "metadata": {
        "colab": {
          "base_uri": "https://localhost:8080/"
        },
        "id": "VMzVe6Ni_KAq",
        "outputId": "addc3d8b-f2d4-4238-aa1e-d2bae8fd1a4b"
      },
      "execution_count": 5,
      "outputs": [
        {
          "output_type": "stream",
          "name": "stdout",
          "text": [
            "1.9835235375094546\n",
            "0.01647646249054535\n"
          ]
        }
      ]
    }
  ]
}