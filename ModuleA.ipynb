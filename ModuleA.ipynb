{
  "nbformat": 4,
  "nbformat_minor": 0,
  "metadata": {
    "colab": {
      "provenance": [],
      "authorship_tag": "ABX9TyNQPBWTaYfJ+HsMYtuxoWJM",
      "include_colab_link": true
    },
    "kernelspec": {
      "name": "python3",
      "display_name": "Python 3"
    },
    "language_info": {
      "name": "python"
    }
  },
  "cells": [
    {
      "cell_type": "markdown",
      "metadata": {
        "id": "view-in-github",
        "colab_type": "text"
      },
      "source": [
        "<a href=\"https://colab.research.google.com/github/vcshaffe/MAT-421/blob/main/ModuleA.ipynb\" target=\"_parent\"><img src=\"https://colab.research.google.com/assets/colab-badge.svg\" alt=\"Open In Colab\"/></a>"
      ]
    },
    {
      "cell_type": "markdown",
      "source": [
        "Section 9.1: Base-N and Binary\n",
        "\n",
        "The traditional decimal system is known as base10 since it is based on digits from 0 to 9. However, there are other ways of expressing digits from different bases, such as base2 or base3, in which only 0,1 or 0,1,2 are available respectively.\n",
        "\n",
        "Base2 is especially important because it is also known as binary. Digits in binary are known as bits."
      ],
      "metadata": {
        "id": "oZ7r4bP1Rz5m"
      }
    },
    {
      "cell_type": "code",
      "execution_count": null,
      "metadata": {
        "colab": {
          "base_uri": "https://localhost:8080/"
        },
        "id": "FpQZNlQfQUjX",
        "outputId": "9af8a635-920c-41bd-fb5f-ccb97964a7c6"
      },
      "outputs": [
        {
          "output_type": "execute_result",
          "data": {
            "text/plain": [
              "True"
            ]
          },
          "metadata": {},
          "execution_count": 2
        }
      ],
      "source": [
        "# Base10\n",
        "147.3 == 1*(10**2) + 4*(10**1) + 7*(10**0) + 3*(10**-1)"
      ]
    },
    {
      "cell_type": "code",
      "source": [
        "# 121 (base3) = 16 (base10)\n",
        "1*(3**2) + 2*(3**1) + 1*(3**0) == 1*(10**1) + 6*(10**0)"
      ],
      "metadata": {
        "colab": {
          "base_uri": "https://localhost:8080/"
        },
        "id": "nAAoYubYVDqk",
        "outputId": "ab52e93b-e0dd-4b78-d4b4-8b147d28277e"
      },
      "execution_count": null,
      "outputs": [
        {
          "output_type": "execute_result",
          "data": {
            "text/plain": [
              "True"
            ]
          },
          "metadata": {},
          "execution_count": 4
        }
      ]
    },
    {
      "cell_type": "code",
      "source": [
        "# Convert 11 (base10) into binary (base2)\n",
        "1*(10**1) + 1*(10**0) == 1*(2**3) + 0*(2**2) + 1*(2**1) + 1*(2**0)"
      ],
      "metadata": {
        "colab": {
          "base_uri": "https://localhost:8080/"
        },
        "id": "Zucb1xWXVvXm",
        "outputId": "4fe9a3da-6243-48f3-afdf-575220b421db"
      },
      "execution_count": null,
      "outputs": [
        {
          "output_type": "execute_result",
          "data": {
            "text/plain": [
              "True"
            ]
          },
          "metadata": {},
          "execution_count": 9
        }
      ]
    },
    {
      "cell_type": "code",
      "source": [
        "# Addition & multiplication in binary\n",
        "# In base10, 37 + 17 = 54\n",
        "# In base2, 37 (base10) = 100101 and 17 (base10) = 10001\n",
        "# So, we can also find the result in binary, which should be equal to 54 in base10 (110110)\n",
        "1*(2**5) + 1*(2**4) + 0*(2**3) + 1*(2**2) + 1*(2**1) + 0*(2**0) == 54\n",
        "\n",
        "#Similarly with multiplication:\n",
        "#37 * 17 = 629\n",
        "#100101 * 10001 = 1001110101\n",
        "629 == 1*(2**9) + 0*(2**8) + 0*(2**7) + 1*(2**6) + 1*(2**5) + 1*(2**4) + 0*(2**3) + 1*(2**2) + 0*(2**1) + 1*(2**0)"
      ],
      "metadata": {
        "colab": {
          "base_uri": "https://localhost:8080/"
        },
        "id": "tgETf8ARXmZo",
        "outputId": "a6ba14fd-5aa5-4a01-9f79-24a49bd0c3a7"
      },
      "execution_count": null,
      "outputs": [
        {
          "output_type": "execute_result",
          "data": {
            "text/plain": [
              "True"
            ]
          },
          "metadata": {},
          "execution_count": 13
        }
      ]
    },
    {
      "cell_type": "markdown",
      "source": [
        "Section 9.2: Floating Point Numbers\n",
        "\n",
        "The number of bits is fixed for any given computer, so in order to get a larger range of values needed with the same amount of bits, floating point numbers (float) are used. Instead of using powers of 2, floats allocate bits to 3 different parts:\n",
        "\n",
        "\n",
        "*   Sign Indicator (s) - says whether a number is positive or negative\n",
        "*   Characteristic / Exponent (e) - the power of 2\n",
        "*   Fraction (f) - coefficient of the exponent\n",
        "\n",
        "1 bit is given to s, 11 bits to e, and 52 bits to f."
      ],
      "metadata": {
        "id": "xjTEdAE_STBb"
      }
    },
    {
      "cell_type": "code",
      "source": [
        "import sys\n",
        "sys.float_info"
      ],
      "metadata": {
        "colab": {
          "base_uri": "https://localhost:8080/"
        },
        "id": "FtxeG-ZLe8d2",
        "outputId": "6cc90114-e739-45bf-f3c9-89d615d84d8b"
      },
      "execution_count": null,
      "outputs": [
        {
          "output_type": "execute_result",
          "data": {
            "text/plain": [
              "sys.float_info(max=1.7976931348623157e+308, max_exp=1024, max_10_exp=308, min=2.2250738585072014e-308, min_exp=-1021, min_10_exp=-307, dig=15, mant_dig=53, epsilon=2.220446049250313e-16, radix=2, rounds=1)"
            ]
          },
          "metadata": {},
          "execution_count": 15
        }
      ]
    },
    {
      "cell_type": "markdown",
      "source": [
        "The distance from one number to the next is called the gap. Because the fraction is multiplied by 2^(e-1023), the gap grows as the number represented grows. The gap can be computed using numpy."
      ],
      "metadata": {
        "id": "SrdxI8COlaS0"
      }
    },
    {
      "cell_type": "code",
      "source": [
        "import numpy as np\n",
        "np.spacing(1e9)"
      ],
      "metadata": {
        "colab": {
          "base_uri": "https://localhost:8080/"
        },
        "id": "zv_SEy2Vl4a-",
        "outputId": "54a5575d-897b-4f29-a6dc-25635b01e43f"
      },
      "execution_count": 16,
      "outputs": [
        {
          "output_type": "execute_result",
          "data": {
            "text/plain": [
              "1.1920928955078125e-07"
            ]
          },
          "metadata": {},
          "execution_count": 16
        }
      ]
    },
    {
      "cell_type": "code",
      "source": [
        "1e9 == (1e9 + np.spacing(1e9)/3)"
      ],
      "metadata": {
        "colab": {
          "base_uri": "https://localhost:8080/"
        },
        "id": "XMLhR9SsmA46",
        "outputId": "31d86b3a-fde4-4c5e-e2b1-f120d26b452f"
      },
      "execution_count": 17,
      "outputs": [
        {
          "output_type": "execute_result",
          "data": {
            "text/plain": [
              "True"
            ]
          },
          "metadata": {},
          "execution_count": 17
        }
      ]
    },
    {
      "cell_type": "markdown",
      "source": [
        "There are special cases when e = 0 and when e = 2047.\n",
        "\n",
        "\n",
        "*   When e = 0, the leading 1 in the fraction takes the value 0 instead. (subnormal number)\n",
        "*   When e = 2047 and f != 0, the result is \"Not a Number\". (undefined)\n",
        "*   When e = 2047, f = 0, s = 0, the result is plus infinity.\n",
        "*   When e = 2047, f = 0, s = 1, the result is minus infinity."
      ],
      "metadata": {
        "id": "NVSQoEcimPHI"
      }
    },
    {
      "cell_type": "code",
      "source": [
        "largest = (2**(2046-1023))*((1 + sum(0.5**np.arange(1, 53))))\n",
        "largest"
      ],
      "metadata": {
        "colab": {
          "base_uri": "https://localhost:8080/"
        },
        "id": "FBny2w3irlx_",
        "outputId": "ea57a20b-4543-49ec-fb21-4b30a3c335b0"
      },
      "execution_count": 18,
      "outputs": [
        {
          "output_type": "execute_result",
          "data": {
            "text/plain": [
              "1.7976931348623157e+308"
            ]
          },
          "metadata": {},
          "execution_count": 18
        }
      ]
    },
    {
      "cell_type": "code",
      "source": [
        "sys.float_info.max"
      ],
      "metadata": {
        "colab": {
          "base_uri": "https://localhost:8080/"
        },
        "id": "veM-P7F7rtFm",
        "outputId": "3749541f-ff43-4c52-f77c-41ca1113e91e"
      },
      "execution_count": 21,
      "outputs": [
        {
          "output_type": "execute_result",
          "data": {
            "text/plain": [
              "1.7976931348623157e+308"
            ]
          },
          "metadata": {},
          "execution_count": 21
        }
      ]
    },
    {
      "cell_type": "code",
      "source": [
        "smallest = (2**(1-1023))*(1+0)\n",
        "smallest"
      ],
      "metadata": {
        "colab": {
          "base_uri": "https://localhost:8080/"
        },
        "id": "atEjwnuYr2jG",
        "outputId": "50f1a3ee-a30d-456a-8aef-fa497a0bb447"
      },
      "execution_count": 22,
      "outputs": [
        {
          "output_type": "execute_result",
          "data": {
            "text/plain": [
              "2.2250738585072014e-308"
            ]
          },
          "metadata": {},
          "execution_count": 22
        }
      ]
    },
    {
      "cell_type": "code",
      "source": [
        "sys.float_info.min"
      ],
      "metadata": {
        "colab": {
          "base_uri": "https://localhost:8080/"
        },
        "id": "d9jMqrqkrxt8",
        "outputId": "c8037805-1d5f-48aa-bd6c-6ef99fc3372b"
      },
      "execution_count": 20,
      "outputs": [
        {
          "output_type": "execute_result",
          "data": {
            "text/plain": [
              "2.2250738585072014e-308"
            ]
          },
          "metadata": {},
          "execution_count": 20
        }
      ]
    },
    {
      "cell_type": "markdown",
      "source": [
        "Any numbers larger than the largest representable float results in overflow, in which Python assigns the result to inf. Any number smaller than the smallest subnormal number results in underflow, and these are assigned to 0."
      ],
      "metadata": {
        "id": "Vf-tlzppr5rU"
      }
    },
    {
      "cell_type": "code",
      "source": [
        "sys.float_info.max + 2 == sys.float_info.max"
      ],
      "metadata": {
        "colab": {
          "base_uri": "https://localhost:8080/"
        },
        "id": "geQmTdeqsHjg",
        "outputId": "dc321fdb-1e2e-4948-adba-a7fb3e8a1b3c"
      },
      "execution_count": 23,
      "outputs": [
        {
          "output_type": "execute_result",
          "data": {
            "text/plain": [
              "True"
            ]
          },
          "metadata": {},
          "execution_count": 23
        }
      ]
    },
    {
      "cell_type": "code",
      "source": [
        "sys.float_info.max + sys.float_info.max"
      ],
      "metadata": {
        "colab": {
          "base_uri": "https://localhost:8080/"
        },
        "id": "xa59a8ZvsMKw",
        "outputId": "7e1c30a0-5fef-4174-97d1-0f7dcdac941f"
      },
      "execution_count": 27,
      "outputs": [
        {
          "output_type": "execute_result",
          "data": {
            "text/plain": [
              "inf"
            ]
          },
          "metadata": {},
          "execution_count": 27
        }
      ]
    },
    {
      "cell_type": "code",
      "source": [
        "2**(-1075) == 0"
      ],
      "metadata": {
        "colab": {
          "base_uri": "https://localhost:8080/"
        },
        "id": "LvqBfnqeseQe",
        "outputId": "a343ae28-97c1-4154-f0f0-90ab362b8733"
      },
      "execution_count": 29,
      "outputs": [
        {
          "output_type": "execute_result",
          "data": {
            "text/plain": [
              "True"
            ]
          },
          "metadata": {},
          "execution_count": 29
        }
      ]
    },
    {
      "cell_type": "code",
      "source": [
        "2**(-1074)"
      ],
      "metadata": {
        "colab": {
          "base_uri": "https://localhost:8080/"
        },
        "id": "MvBCmrWLsi-S",
        "outputId": "fac30510-e027-45a8-ff5d-68fc0978410a"
      },
      "execution_count": 34,
      "outputs": [
        {
          "output_type": "execute_result",
          "data": {
            "text/plain": [
              "5e-324"
            ]
          },
          "metadata": {},
          "execution_count": 34
        }
      ]
    },
    {
      "cell_type": "markdown",
      "source": [
        "Although IEEE754 uses the same amount of bits as binary, there is a tradeoff between range and precision. As a result, IEEE754 is very precise when dealing with small numbers but loses this precision when dealing with large numbers; however this low precision is acceptable because the gap is relatively small compared to the numbers being dealt with."
      ],
      "metadata": {
        "id": "ToOXXhj2s0FW"
      }
    },
    {
      "cell_type": "markdown",
      "source": [
        "Section 9.3: Round-off Errors\n",
        "\n",
        "The difference between an approximation of a number used in computation and the actually correct number is the round-off error. Another error is the truncation error, which is made by truncating an infinite sum and approximating it with a finite sum.\n",
        "\n",
        "The most common type of round-off error is the representation error. Some common examples of the representation error are π or 1/3. No matter how many decimal digits we choose to represent these numbers, there will always be a round-off error since both numbers run on infinitely."
      ],
      "metadata": {
        "id": "hsR4IRcPTsh2"
      }
    },
    {
      "cell_type": "code",
      "source": [
        "4.9 - 4.845 == 0.055"
      ],
      "metadata": {
        "colab": {
          "base_uri": "https://localhost:8080/"
        },
        "id": "5JyTVMI-uX6G",
        "outputId": "4d9a4c47-0bd8-427b-c74f-f3718f798f2b"
      },
      "execution_count": 35,
      "outputs": [
        {
          "output_type": "execute_result",
          "data": {
            "text/plain": [
              "False"
            ]
          },
          "metadata": {},
          "execution_count": 35
        }
      ]
    },
    {
      "cell_type": "code",
      "source": [
        "4.9 - 4.845"
      ],
      "metadata": {
        "colab": {
          "base_uri": "https://localhost:8080/"
        },
        "id": "mIgjLeFJuezH",
        "outputId": "f5edd593-d845-4e8e-86f4-5465efa2fc13"
      },
      "execution_count": 36,
      "outputs": [
        {
          "output_type": "execute_result",
          "data": {
            "text/plain": [
              "0.055000000000000604"
            ]
          },
          "metadata": {},
          "execution_count": 36
        }
      ]
    },
    {
      "cell_type": "code",
      "source": [
        "0.1 + 0.2 + 0.3 == 0.6"
      ],
      "metadata": {
        "colab": {
          "base_uri": "https://localhost:8080/"
        },
        "id": "vDLNGf2Quk7K",
        "outputId": "222eb35b-15f4-427f-be98-48ae917b111e"
      },
      "execution_count": 37,
      "outputs": [
        {
          "output_type": "execute_result",
          "data": {
            "text/plain": [
              "False"
            ]
          },
          "metadata": {},
          "execution_count": 37
        }
      ]
    },
    {
      "cell_type": "code",
      "source": [
        "#Use the round function for post-rounding\n",
        "round(0.1 + 0.2 + 0.3, 5) == round(0.6,5)"
      ],
      "metadata": {
        "colab": {
          "base_uri": "https://localhost:8080/"
        },
        "id": "ttx25FnNuqF3",
        "outputId": "2b2b959f-9add-4d9c-ec08-9a3705eb7864"
      },
      "execution_count": 38,
      "outputs": [
        {
          "output_type": "execute_result",
          "data": {
            "text/plain": [
              "True"
            ]
          },
          "metadata": {},
          "execution_count": 38
        }
      ]
    },
    {
      "cell_type": "markdown",
      "source": [
        "When doing several calculations, be careful of accumulating round-off errors. Doing a single calculation usually doesn't cause any errors, but many calculations in succession can lead to larger and larger errors."
      ],
      "metadata": {
        "id": "5Pm7yvWRvFto"
      }
    },
    {
      "cell_type": "code",
      "source": [
        "1 + 1/3 - 1/3"
      ],
      "metadata": {
        "colab": {
          "base_uri": "https://localhost:8080/"
        },
        "id": "McQJwZPxvQya",
        "outputId": "593d8df8-a783-405d-c6b4-eeabe21de3a0"
      },
      "execution_count": 39,
      "outputs": [
        {
          "output_type": "execute_result",
          "data": {
            "text/plain": [
              "1.0"
            ]
          },
          "metadata": {},
          "execution_count": 39
        }
      ]
    },
    {
      "cell_type": "code",
      "source": [
        "def add_and_subtract(iterations):\n",
        "    result = 1\n",
        "\n",
        "    for i in range(iterations):\n",
        "        result += 1/3\n",
        "\n",
        "    for i in range(iterations):\n",
        "        result -= 1/3\n",
        "    return result"
      ],
      "metadata": {
        "id": "wcUGet5WvSxp"
      },
      "execution_count": 41,
      "outputs": []
    },
    {
      "cell_type": "code",
      "source": [
        "#add and subtract 1/3 100 times\n",
        "add_and_subtract(100)"
      ],
      "metadata": {
        "colab": {
          "base_uri": "https://localhost:8080/"
        },
        "id": "_w0t98Qmvd55",
        "outputId": "22549486-ff51-40f7-cb93-2b2b78a3af4e"
      },
      "execution_count": 42,
      "outputs": [
        {
          "output_type": "execute_result",
          "data": {
            "text/plain": [
              "1.0000000000000002"
            ]
          },
          "metadata": {},
          "execution_count": 42
        }
      ]
    },
    {
      "cell_type": "code",
      "source": [
        "#add and subtract 1/3 1000 times\n",
        "add_and_subtract(1000)"
      ],
      "metadata": {
        "colab": {
          "base_uri": "https://localhost:8080/"
        },
        "id": "8oTfQqZ6vf3b",
        "outputId": "2ed625dc-894e-4aaa-d335-d31f707f8e81"
      },
      "execution_count": 43,
      "outputs": [
        {
          "output_type": "execute_result",
          "data": {
            "text/plain": [
              "1.0000000000000064"
            ]
          },
          "metadata": {},
          "execution_count": 43
        }
      ]
    }
  ]
}