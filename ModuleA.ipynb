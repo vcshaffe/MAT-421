{
  "nbformat": 4,
  "nbformat_minor": 0,
  "metadata": {
    "colab": {
      "provenance": [],
      "authorship_tag": "ABX9TyPtQzgRLFjCPg7xZX6ZlNIt",
      "include_colab_link": true
    },
    "kernelspec": {
      "name": "python3",
      "display_name": "Python 3"
    },
    "language_info": {
      "name": "python"
    }
  },
  "cells": [
    {
      "cell_type": "markdown",
      "metadata": {
        "id": "view-in-github",
        "colab_type": "text"
      },
      "source": [
        "<a href=\"https://colab.research.google.com/github/vcshaffe/MAT-421/blob/main/ModuleA.ipynb\" target=\"_parent\"><img src=\"https://colab.research.google.com/assets/colab-badge.svg\" alt=\"Open In Colab\"/></a>"
      ]
    },
    {
      "cell_type": "markdown",
      "source": [
        "Section 9.1: Base-N and Binary\n",
        "\n",
        "The traditional decimal system is known as base10 since it is based on digits from 0 to 9. However, there are other ways of expressing digits from different bases, such as base2 or base3, in which only 0,1 or 0,1,2 are available respectively.\n",
        "\n",
        "Base2 is especially important because it is also known as binary. Digits in binary are known as bits."
      ],
      "metadata": {
        "id": "oZ7r4bP1Rz5m"
      }
    },
    {
      "cell_type": "code",
      "execution_count": null,
      "metadata": {
        "colab": {
          "base_uri": "https://localhost:8080/"
        },
        "id": "FpQZNlQfQUjX",
        "outputId": "9af8a635-920c-41bd-fb5f-ccb97964a7c6"
      },
      "outputs": [
        {
          "output_type": "execute_result",
          "data": {
            "text/plain": [
              "True"
            ]
          },
          "metadata": {},
          "execution_count": 2
        }
      ],
      "source": [
        "# Base10\n",
        "147.3 == 1*(10**2) + 4*(10**1) + 7*(10**0) + 3*(10**-1)"
      ]
    },
    {
      "cell_type": "code",
      "source": [
        "# 121 (base3) = 16 (base10)\n",
        "1*(3**2) + 2*(3**1) + 1*(3**0) == 1*(10**1) + 6*(10**0)"
      ],
      "metadata": {
        "colab": {
          "base_uri": "https://localhost:8080/"
        },
        "id": "nAAoYubYVDqk",
        "outputId": "ab52e93b-e0dd-4b78-d4b4-8b147d28277e"
      },
      "execution_count": null,
      "outputs": [
        {
          "output_type": "execute_result",
          "data": {
            "text/plain": [
              "True"
            ]
          },
          "metadata": {},
          "execution_count": 4
        }
      ]
    },
    {
      "cell_type": "code",
      "source": [
        "# Convert 11 (base10) into binary (base2)\n",
        "1*(10**1) + 1*(10**0) == 1*(2**3) + 0*(2**2) + 1*(2**1) + 1*(2**0)"
      ],
      "metadata": {
        "colab": {
          "base_uri": "https://localhost:8080/"
        },
        "id": "Zucb1xWXVvXm",
        "outputId": "4fe9a3da-6243-48f3-afdf-575220b421db"
      },
      "execution_count": null,
      "outputs": [
        {
          "output_type": "execute_result",
          "data": {
            "text/plain": [
              "True"
            ]
          },
          "metadata": {},
          "execution_count": 9
        }
      ]
    },
    {
      "cell_type": "code",
      "source": [
        "# Addition & multiplication in binary\n",
        "# In base10, 37 + 17 = 54\n",
        "# In base2, 37 (base10) = 100101 and 17 (base10) = 10001\n",
        "# So, we can also find the result in binary, which should be equal to 54 in base10 (110110)\n",
        "1*(2**5) + 1*(2**4) + 0*(2**3) + 1*(2**2) + 1*(2**1) + 0*(2**0) == 54\n",
        "\n",
        "#Similarly with multiplication:\n",
        "#37 * 17 = 629\n",
        "#100101 * 10001 = 1001110101\n",
        "629 == 1*(2**9) + 0*(2**8) + 0*(2**7) + 1*(2**6) + 1*(2**5) + 1*(2**4) + 0*(2**3) + 1*(2**2) + 0*(2**1) + 1*(2**0)"
      ],
      "metadata": {
        "colab": {
          "base_uri": "https://localhost:8080/"
        },
        "id": "tgETf8ARXmZo",
        "outputId": "a6ba14fd-5aa5-4a01-9f79-24a49bd0c3a7"
      },
      "execution_count": null,
      "outputs": [
        {
          "output_type": "execute_result",
          "data": {
            "text/plain": [
              "True"
            ]
          },
          "metadata": {},
          "execution_count": 13
        }
      ]
    },
    {
      "cell_type": "markdown",
      "source": [
        "Section 9.2: Floating Point Numbers\n",
        "\n",
        "The number of bits is fixed for any given computer, so in order to get a larger range of values needed with the same amount of bits, floating point numbers (float) are used. Instead of using powers of 2, floats allocate bits to 3 different parts:\n",
        "\n",
        "\n",
        "*   Sign Indicator (s) - says whether a number is positive or negative\n",
        "*   Characteristic / Exponent (e) - the power of 2\n",
        "*   Fraction (f) - coefficient of the exponent"
      ],
      "metadata": {
        "id": "xjTEdAE_STBb"
      }
    },
    {
      "cell_type": "code",
      "source": [
        "import sys\n",
        "sys.float_info"
      ],
      "metadata": {
        "colab": {
          "base_uri": "https://localhost:8080/"
        },
        "id": "FtxeG-ZLe8d2",
        "outputId": "6cc90114-e739-45bf-f3c9-89d615d84d8b"
      },
      "execution_count": null,
      "outputs": [
        {
          "output_type": "execute_result",
          "data": {
            "text/plain": [
              "sys.float_info(max=1.7976931348623157e+308, max_exp=1024, max_10_exp=308, min=2.2250738585072014e-308, min_exp=-1021, min_10_exp=-307, dig=15, mant_dig=53, epsilon=2.220446049250313e-16, radix=2, rounds=1)"
            ]
          },
          "metadata": {},
          "execution_count": 15
        }
      ]
    },
    {
      "cell_type": "markdown",
      "source": [
        "Section 9.3: Round-off Errors"
      ],
      "metadata": {
        "id": "hsR4IRcPTsh2"
      }
    }
  ]
}